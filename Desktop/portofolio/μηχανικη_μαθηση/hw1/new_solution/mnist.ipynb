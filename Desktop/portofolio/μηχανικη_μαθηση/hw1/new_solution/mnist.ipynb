{
 "cells": [
  {
   "cell_type": "code",
   "execution_count": 1,
   "id": "ad2c40c9",
   "metadata": {},
   "outputs": [
    {
     "name": "stdout",
     "output_type": "stream",
     "text": [
      "Downloading http://yann.lecun.com/exdb/mnist/train-images-idx3-ubyte.gz\n",
      "Failed to download (trying next):\n",
      "HTTP Error 403: Forbidden\n",
      "\n",
      "Downloading https://ossci-datasets.s3.amazonaws.com/mnist/train-images-idx3-ubyte.gz\n",
      "Downloading https://ossci-datasets.s3.amazonaws.com/mnist/train-images-idx3-ubyte.gz to ./data\\MNIST\\raw\\train-images-idx3-ubyte.gz\n"
     ]
    },
    {
     "name": "stderr",
     "output_type": "stream",
     "text": [
      "100%|███████████████████████████████████████████████████████████████████| 9912422/9912422 [00:08<00:00, 1216849.57it/s]\n"
     ]
    },
    {
     "name": "stdout",
     "output_type": "stream",
     "text": [
      "Extracting ./data\\MNIST\\raw\\train-images-idx3-ubyte.gz to ./data\\MNIST\\raw\n",
      "\n",
      "Downloading http://yann.lecun.com/exdb/mnist/train-labels-idx1-ubyte.gz\n",
      "Failed to download (trying next):\n",
      "HTTP Error 403: Forbidden\n",
      "\n",
      "Downloading https://ossci-datasets.s3.amazonaws.com/mnist/train-labels-idx1-ubyte.gz\n",
      "Downloading https://ossci-datasets.s3.amazonaws.com/mnist/train-labels-idx1-ubyte.gz to ./data\\MNIST\\raw\\train-labels-idx1-ubyte.gz\n"
     ]
    },
    {
     "name": "stderr",
     "output_type": "stream",
     "text": [
      "100%|████████████████████████████████████████████████████████████████████████| 28881/28881 [00:00<00:00, 230279.36it/s]\n"
     ]
    },
    {
     "name": "stdout",
     "output_type": "stream",
     "text": [
      "Extracting ./data\\MNIST\\raw\\train-labels-idx1-ubyte.gz to ./data\\MNIST\\raw\n",
      "\n",
      "Downloading http://yann.lecun.com/exdb/mnist/t10k-images-idx3-ubyte.gz\n",
      "Failed to download (trying next):\n",
      "HTTP Error 403: Forbidden\n",
      "\n",
      "Downloading https://ossci-datasets.s3.amazonaws.com/mnist/t10k-images-idx3-ubyte.gz\n",
      "Downloading https://ossci-datasets.s3.amazonaws.com/mnist/t10k-images-idx3-ubyte.gz to ./data\\MNIST\\raw\\t10k-images-idx3-ubyte.gz\n"
     ]
    },
    {
     "name": "stderr",
     "output_type": "stream",
     "text": [
      "100%|████████████████████████████████████████████████████████████████████| 1648877/1648877 [00:01<00:00, 945847.39it/s]\n"
     ]
    },
    {
     "name": "stdout",
     "output_type": "stream",
     "text": [
      "Extracting ./data\\MNIST\\raw\\t10k-images-idx3-ubyte.gz to ./data\\MNIST\\raw\n",
      "\n",
      "Downloading http://yann.lecun.com/exdb/mnist/t10k-labels-idx1-ubyte.gz\n",
      "Failed to download (trying next):\n",
      "HTTP Error 403: Forbidden\n",
      "\n",
      "Downloading https://ossci-datasets.s3.amazonaws.com/mnist/t10k-labels-idx1-ubyte.gz\n",
      "Downloading https://ossci-datasets.s3.amazonaws.com/mnist/t10k-labels-idx1-ubyte.gz to ./data\\MNIST\\raw\\t10k-labels-idx1-ubyte.gz\n"
     ]
    },
    {
     "name": "stderr",
     "output_type": "stream",
     "text": [
      "100%|██████████████████████████████████████████████████████████████████████████████████████| 4542/4542 [00:00<?, ?it/s]"
     ]
    },
    {
     "name": "stdout",
     "output_type": "stream",
     "text": [
      "Extracting ./data\\MNIST\\raw\\t10k-labels-idx1-ubyte.gz to ./data\\MNIST\\raw\n",
      "\n"
     ]
    },
    {
     "name": "stderr",
     "output_type": "stream",
     "text": [
      "\n"
     ]
    }
   ],
   "source": [
    "import torch\n",
    "import torchvision\n",
    "import torchvision.transforms as transforms\n",
    "import numpy as np\n",
    "\n",
    "# Load MNIST dataset, but only keep digits 0 and 8\n",
    "transform = transforms.Compose([transforms.ToTensor()])\n",
    "mnist_train = torchvision.datasets.MNIST(root='./data', train=True, download=True, transform=transform)\n",
    "mnist_test = torchvision.datasets.MNIST(root='./data', train=False, download=True, transform=transform)\n",
    "\n",
    "# Filter out only the digits 0 and 8\n",
    "train_indices = np.where((mnist_train.targets == 0) | (mnist_train.targets == 8))[0]\n",
    "test_indices = np.where((mnist_test.targets == 0) | (mnist_test.targets == 8))[0]\n",
    "\n",
    "train_data = mnist_train.data[train_indices]\n",
    "train_targets = mnist_train.targets[train_indices]\n",
    "test_data = mnist_test.data[test_indices]\n",
    "test_targets = mnist_test.targets[test_indices]\n",
    "\n",
    "# Normalize the data to [0, 1]\n",
    "train_data = train_data.float() / 255.0\n",
    "test_data = test_data.float() / 255.0\n",
    "\n",
    "# Flatten the images to vectors of size 784\n",
    "train_data = train_data.view(-1, 28*28)\n",
    "test_data = test_data.view(-1, 28*28)\n",
    "\n",
    "# Convert targets to binary: 0 for '0' and 1 for '8'\n",
    "train_targets = (train_targets == 8).float().view(-1, 1)\n",
    "test_targets = (test_targets == 8).float().view(-1, 1)\n"
   ]
  },
  {
   "cell_type": "code",
   "execution_count": 2,
   "id": "c3653fe3",
   "metadata": {},
   "outputs": [],
   "source": [
    "import torch.nn as nn\n",
    "import torch.optim as optim\n",
    "\n",
    "class SimpleNN(nn.Module):\n",
    "    def __init__(self):\n",
    "        super(SimpleNN, self).__init__()\n",
    "        self.fc1 = nn.Linear(28*28, 300)\n",
    "        self.fc2 = nn.Linear(300, 1)\n",
    "    \n",
    "    def forward(self, x):\n",
    "        x = torch.sigmoid(self.fc1(x))\n",
    "        x = torch.sigmoid(self.fc2(x))\n",
    "        return x\n",
    "\n",
    "# Initialize the network\n",
    "net_hinge = SimpleNN()\n",
    "net_ce = SimpleNN()\n",
    "net_exp = SimpleNN()\n",
    "\n",
    "# Initialize weights with Gaussian distribution\n",
    "for net in [net_hinge, net_ce, net_exp]:\n",
    "    for layer in net.modules():\n",
    "        if isinstance(layer, nn.Linear):\n",
    "            nn.init.normal_(layer.weight, mean=0, std=1/np.sqrt(layer.in_features + layer.out_features))\n",
    "            nn.init.zeros_(layer.bias)\n"
   ]
  },
  {
   "cell_type": "code",
   "execution_count": 3,
   "id": "77a5391e",
   "metadata": {},
   "outputs": [],
   "source": [
    "# Hinge Loss function\n",
    "def hinge_loss(output, target):\n",
    "    return torch.mean(torch.clamp(1 - output * (2 * target - 1), min=0))\n",
    "\n",
    "# Exponential Loss function\n",
    "def exponential_loss(output, target):\n",
    "    return torch.mean(torch.exp(-output * (2 * target - 1)))\n",
    "\n",
    "# Cross-Entropy Loss is provided by PyTorch\n",
    "criterion_ce = nn.BCELoss()\n"
   ]
  },
  {
   "cell_type": "code",
   "execution_count": 4,
   "id": "470102a2",
   "metadata": {},
   "outputs": [],
   "source": [
    "def train_network(net, criterion, optimizer, train_data, train_targets, epochs=10):\n",
    "    for epoch in range(epochs):\n",
    "        optimizer.zero_grad()\n",
    "        outputs = net(train_data)\n",
    "        loss = criterion(outputs, train_targets)\n",
    "        loss.backward()\n",
    "        optimizer.step()\n",
    "\n",
    "# Optimizers\n",
    "optimizer_hinge = optim.Adam(net_hinge.parameters(), lr=0.001)\n",
    "optimizer_ce = optim.Adam(net_ce.parameters(), lr=0.001)\n",
    "optimizer_exp = optim.Adam(net_exp.parameters(), lr=0.001)\n",
    "\n",
    "\n"
   ]
  },
  {
   "cell_type": "code",
   "execution_count": 24,
   "id": "de552721",
   "metadata": {},
   "outputs": [],
   "source": [
    "# Train each network\n",
    "train_network(net_hinge, hinge_loss, optimizer_hinge, train_data, train_targets)\n",
    "train_network(net_ce, criterion_ce, optimizer_ce, train_data, train_targets)\n",
    "train_network(net_exp, exponential_loss, optimizer_exp, train_data, train_targets)"
   ]
  },
  {
   "cell_type": "code",
   "execution_count": 25,
   "id": "663d99e4",
   "metadata": {},
   "outputs": [
    {
     "name": "stdout",
     "output_type": "stream",
     "text": [
      "Hinge Loss NN Error Rate: 0.014329580590128899\n",
      "Cross-Entropy NN Error Rate: 0.009723643772304058\n",
      "Exponential Loss NN Error Rate: 0.019959058612585068\n"
     ]
    }
   ],
   "source": [
    "# Evaluate the networks\n",
    "with torch.no_grad():\n",
    "    outputs_hinge = net_hinge(test_data)\n",
    "    outputs_ce = net_ce(test_data)\n",
    "    outputs_exp = net_exp(test_data)\n",
    "\n",
    "# Apply the decision rule: classify as 8 if output > 0.5\n",
    "y_pred_hinge = (outputs_hinge > 0.5).float()\n",
    "y_pred_ce = (outputs_ce > 0.5).float()\n",
    "y_pred_exp = (outputs_exp > 0.5).float()\n",
    "\n",
    "# Compute error rates\n",
    "error_rate_hinge = torch.mean((y_pred_hinge != test_targets).float())\n",
    "error_rate_ce = torch.mean((y_pred_ce != test_targets).float())\n",
    "error_rate_exp = torch.mean((y_pred_exp != test_targets).float())\n",
    "\n",
    "print(f'Hinge Loss NN Error Rate: {error_rate_hinge.item()}')\n",
    "print(f'Cross-Entropy NN Error Rate: {error_rate_ce.item()}')\n",
    "print(f'Exponential Loss NN Error Rate: {error_rate_exp.item()}')\n"
   ]
  },
  {
   "cell_type": "code",
   "execution_count": null,
   "id": "4d01845b",
   "metadata": {},
   "outputs": [],
   "source": []
  }
 ],
 "metadata": {
  "kernelspec": {
   "display_name": "Python 3 (ipykernel)",
   "language": "python",
   "name": "python3"
  },
  "language_info": {
   "codemirror_mode": {
    "name": "ipython",
    "version": 3
   },
   "file_extension": ".py",
   "mimetype": "text/x-python",
   "name": "python",
   "nbconvert_exporter": "python",
   "pygments_lexer": "ipython3",
   "version": "3.9.13"
  }
 },
 "nbformat": 4,
 "nbformat_minor": 5
}
